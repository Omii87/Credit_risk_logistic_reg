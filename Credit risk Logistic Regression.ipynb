{
 "cells": [
  {
   "cell_type": "code",
   "execution_count": 1,
   "id": "cf3ba330",
   "metadata": {},
   "outputs": [],
   "source": [
    "import pandas as pd\n",
    "import numpy as np\n",
    "import seaborn as sns\n",
    "import matplotlib.pyplot as plt\n",
    "\n",
    "from sklearn.model_selection import train_test_split\n",
    "from sklearn.linear_model import LogisticRegression\n",
    "from sklearn.metrics import accuracy_score, confusion_matrix, classification_report\n",
    "import pickle\n",
    "import json\n",
    "\n",
    "import warnings\n",
    "warnings.filterwarnings('ignore')"
   ]
  },
  {
   "cell_type": "markdown",
   "id": "1e7e3e44",
   "metadata": {},
   "source": [
    "#### Problem statement"
   ]
  },
  {
   "cell_type": "raw",
   "id": "5a3e3c94",
   "metadata": {},
   "source": [
    "To predict Loan status: Approved(Y) or Not Approved(N)\n",
    "                     based on 11 features such as Gender, Married ,Dependents,Education,Self_Employed\n",
    "                     ApplicantIncome ,etc\n",
    "Classification problem:-"
   ]
  },
  {
   "cell_type": "markdown",
   "id": "50f2796c",
   "metadata": {},
   "source": [
    "#### Data Gathering"
   ]
  },
  {
   "cell_type": "code",
   "execution_count": 2,
   "id": "3eac35e7",
   "metadata": {},
   "outputs": [
    {
     "ename": "FileNotFoundError",
     "evalue": "[Errno 2] No such file or directory: 'E:\\\\exl datasets\\\\Credit_Risk_data.csv'",
     "output_type": "error",
     "traceback": [
      "\u001b[1;31m---------------------------------------------------------------------------\u001b[0m",
      "\u001b[1;31mFileNotFoundError\u001b[0m                         Traceback (most recent call last)",
      "Cell \u001b[1;32mIn[2], line 1\u001b[0m\n\u001b[1;32m----> 1\u001b[0m df\u001b[38;5;241m=\u001b[39m\u001b[43mpd\u001b[49m\u001b[38;5;241;43m.\u001b[39;49m\u001b[43mread_csv\u001b[49m\u001b[43m(\u001b[49m\u001b[38;5;124;43mr\u001b[39;49m\u001b[38;5;124;43m\"\u001b[39;49m\u001b[38;5;124;43mE:\u001b[39;49m\u001b[38;5;124;43m\\\u001b[39;49m\u001b[38;5;124;43mexl datasets\u001b[39;49m\u001b[38;5;124;43m\\\u001b[39;49m\u001b[38;5;124;43mCredit_Risk_data.csv\u001b[39;49m\u001b[38;5;124;43m\"\u001b[39;49m\u001b[43m)\u001b[49m\n\u001b[0;32m      2\u001b[0m df\u001b[38;5;241m.\u001b[39mhead() \n",
      "File \u001b[1;32mc:\\users\\omkar pethe\\appdata\\local\\programs\\python\\python39\\lib\\site-packages\\pandas\\io\\parsers\\readers.py:912\u001b[0m, in \u001b[0;36mread_csv\u001b[1;34m(filepath_or_buffer, sep, delimiter, header, names, index_col, usecols, dtype, engine, converters, true_values, false_values, skipinitialspace, skiprows, skipfooter, nrows, na_values, keep_default_na, na_filter, verbose, skip_blank_lines, parse_dates, infer_datetime_format, keep_date_col, date_parser, date_format, dayfirst, cache_dates, iterator, chunksize, compression, thousands, decimal, lineterminator, quotechar, quoting, doublequote, escapechar, comment, encoding, encoding_errors, dialect, on_bad_lines, delim_whitespace, low_memory, memory_map, float_precision, storage_options, dtype_backend)\u001b[0m\n\u001b[0;32m    899\u001b[0m kwds_defaults \u001b[38;5;241m=\u001b[39m _refine_defaults_read(\n\u001b[0;32m    900\u001b[0m     dialect,\n\u001b[0;32m    901\u001b[0m     delimiter,\n\u001b[1;32m   (...)\u001b[0m\n\u001b[0;32m    908\u001b[0m     dtype_backend\u001b[38;5;241m=\u001b[39mdtype_backend,\n\u001b[0;32m    909\u001b[0m )\n\u001b[0;32m    910\u001b[0m kwds\u001b[38;5;241m.\u001b[39mupdate(kwds_defaults)\n\u001b[1;32m--> 912\u001b[0m \u001b[38;5;28;01mreturn\u001b[39;00m \u001b[43m_read\u001b[49m\u001b[43m(\u001b[49m\u001b[43mfilepath_or_buffer\u001b[49m\u001b[43m,\u001b[49m\u001b[43m \u001b[49m\u001b[43mkwds\u001b[49m\u001b[43m)\u001b[49m\n",
      "File \u001b[1;32mc:\\users\\omkar pethe\\appdata\\local\\programs\\python\\python39\\lib\\site-packages\\pandas\\io\\parsers\\readers.py:577\u001b[0m, in \u001b[0;36m_read\u001b[1;34m(filepath_or_buffer, kwds)\u001b[0m\n\u001b[0;32m    574\u001b[0m _validate_names(kwds\u001b[38;5;241m.\u001b[39mget(\u001b[38;5;124m\"\u001b[39m\u001b[38;5;124mnames\u001b[39m\u001b[38;5;124m\"\u001b[39m, \u001b[38;5;28;01mNone\u001b[39;00m))\n\u001b[0;32m    576\u001b[0m \u001b[38;5;66;03m# Create the parser.\u001b[39;00m\n\u001b[1;32m--> 577\u001b[0m parser \u001b[38;5;241m=\u001b[39m TextFileReader(filepath_or_buffer, \u001b[38;5;241m*\u001b[39m\u001b[38;5;241m*\u001b[39mkwds)\n\u001b[0;32m    579\u001b[0m \u001b[38;5;28;01mif\u001b[39;00m chunksize \u001b[38;5;129;01mor\u001b[39;00m iterator:\n\u001b[0;32m    580\u001b[0m     \u001b[38;5;28;01mreturn\u001b[39;00m parser\n",
      "File \u001b[1;32mc:\\users\\omkar pethe\\appdata\\local\\programs\\python\\python39\\lib\\site-packages\\pandas\\io\\parsers\\readers.py:1407\u001b[0m, in \u001b[0;36mTextFileReader.__init__\u001b[1;34m(self, f, engine, **kwds)\u001b[0m\n\u001b[0;32m   1404\u001b[0m     \u001b[38;5;28mself\u001b[39m\u001b[38;5;241m.\u001b[39moptions[\u001b[38;5;124m\"\u001b[39m\u001b[38;5;124mhas_index_names\u001b[39m\u001b[38;5;124m\"\u001b[39m] \u001b[38;5;241m=\u001b[39m kwds[\u001b[38;5;124m\"\u001b[39m\u001b[38;5;124mhas_index_names\u001b[39m\u001b[38;5;124m\"\u001b[39m]\n\u001b[0;32m   1406\u001b[0m \u001b[38;5;28mself\u001b[39m\u001b[38;5;241m.\u001b[39mhandles: IOHandles \u001b[38;5;241m|\u001b[39m \u001b[38;5;28;01mNone\u001b[39;00m \u001b[38;5;241m=\u001b[39m \u001b[38;5;28;01mNone\u001b[39;00m\n\u001b[1;32m-> 1407\u001b[0m \u001b[38;5;28mself\u001b[39m\u001b[38;5;241m.\u001b[39m_engine \u001b[38;5;241m=\u001b[39m \u001b[38;5;28;43mself\u001b[39;49m\u001b[38;5;241;43m.\u001b[39;49m\u001b[43m_make_engine\u001b[49m\u001b[43m(\u001b[49m\u001b[43mf\u001b[49m\u001b[43m,\u001b[49m\u001b[43m \u001b[49m\u001b[38;5;28;43mself\u001b[39;49m\u001b[38;5;241;43m.\u001b[39;49m\u001b[43mengine\u001b[49m\u001b[43m)\u001b[49m\n",
      "File \u001b[1;32mc:\\users\\omkar pethe\\appdata\\local\\programs\\python\\python39\\lib\\site-packages\\pandas\\io\\parsers\\readers.py:1661\u001b[0m, in \u001b[0;36mTextFileReader._make_engine\u001b[1;34m(self, f, engine)\u001b[0m\n\u001b[0;32m   1659\u001b[0m     \u001b[38;5;28;01mif\u001b[39;00m \u001b[38;5;124m\"\u001b[39m\u001b[38;5;124mb\u001b[39m\u001b[38;5;124m\"\u001b[39m \u001b[38;5;129;01mnot\u001b[39;00m \u001b[38;5;129;01min\u001b[39;00m mode:\n\u001b[0;32m   1660\u001b[0m         mode \u001b[38;5;241m+\u001b[39m\u001b[38;5;241m=\u001b[39m \u001b[38;5;124m\"\u001b[39m\u001b[38;5;124mb\u001b[39m\u001b[38;5;124m\"\u001b[39m\n\u001b[1;32m-> 1661\u001b[0m \u001b[38;5;28mself\u001b[39m\u001b[38;5;241m.\u001b[39mhandles \u001b[38;5;241m=\u001b[39m \u001b[43mget_handle\u001b[49m\u001b[43m(\u001b[49m\n\u001b[0;32m   1662\u001b[0m \u001b[43m    \u001b[49m\u001b[43mf\u001b[49m\u001b[43m,\u001b[49m\n\u001b[0;32m   1663\u001b[0m \u001b[43m    \u001b[49m\u001b[43mmode\u001b[49m\u001b[43m,\u001b[49m\n\u001b[0;32m   1664\u001b[0m \u001b[43m    \u001b[49m\u001b[43mencoding\u001b[49m\u001b[38;5;241;43m=\u001b[39;49m\u001b[38;5;28;43mself\u001b[39;49m\u001b[38;5;241;43m.\u001b[39;49m\u001b[43moptions\u001b[49m\u001b[38;5;241;43m.\u001b[39;49m\u001b[43mget\u001b[49m\u001b[43m(\u001b[49m\u001b[38;5;124;43m\"\u001b[39;49m\u001b[38;5;124;43mencoding\u001b[39;49m\u001b[38;5;124;43m\"\u001b[39;49m\u001b[43m,\u001b[49m\u001b[43m \u001b[49m\u001b[38;5;28;43;01mNone\u001b[39;49;00m\u001b[43m)\u001b[49m\u001b[43m,\u001b[49m\n\u001b[0;32m   1665\u001b[0m \u001b[43m    \u001b[49m\u001b[43mcompression\u001b[49m\u001b[38;5;241;43m=\u001b[39;49m\u001b[38;5;28;43mself\u001b[39;49m\u001b[38;5;241;43m.\u001b[39;49m\u001b[43moptions\u001b[49m\u001b[38;5;241;43m.\u001b[39;49m\u001b[43mget\u001b[49m\u001b[43m(\u001b[49m\u001b[38;5;124;43m\"\u001b[39;49m\u001b[38;5;124;43mcompression\u001b[39;49m\u001b[38;5;124;43m\"\u001b[39;49m\u001b[43m,\u001b[49m\u001b[43m \u001b[49m\u001b[38;5;28;43;01mNone\u001b[39;49;00m\u001b[43m)\u001b[49m\u001b[43m,\u001b[49m\n\u001b[0;32m   1666\u001b[0m \u001b[43m    \u001b[49m\u001b[43mmemory_map\u001b[49m\u001b[38;5;241;43m=\u001b[39;49m\u001b[38;5;28;43mself\u001b[39;49m\u001b[38;5;241;43m.\u001b[39;49m\u001b[43moptions\u001b[49m\u001b[38;5;241;43m.\u001b[39;49m\u001b[43mget\u001b[49m\u001b[43m(\u001b[49m\u001b[38;5;124;43m\"\u001b[39;49m\u001b[38;5;124;43mmemory_map\u001b[39;49m\u001b[38;5;124;43m\"\u001b[39;49m\u001b[43m,\u001b[49m\u001b[43m \u001b[49m\u001b[38;5;28;43;01mFalse\u001b[39;49;00m\u001b[43m)\u001b[49m\u001b[43m,\u001b[49m\n\u001b[0;32m   1667\u001b[0m \u001b[43m    \u001b[49m\u001b[43mis_text\u001b[49m\u001b[38;5;241;43m=\u001b[39;49m\u001b[43mis_text\u001b[49m\u001b[43m,\u001b[49m\n\u001b[0;32m   1668\u001b[0m \u001b[43m    \u001b[49m\u001b[43merrors\u001b[49m\u001b[38;5;241;43m=\u001b[39;49m\u001b[38;5;28;43mself\u001b[39;49m\u001b[38;5;241;43m.\u001b[39;49m\u001b[43moptions\u001b[49m\u001b[38;5;241;43m.\u001b[39;49m\u001b[43mget\u001b[49m\u001b[43m(\u001b[49m\u001b[38;5;124;43m\"\u001b[39;49m\u001b[38;5;124;43mencoding_errors\u001b[39;49m\u001b[38;5;124;43m\"\u001b[39;49m\u001b[43m,\u001b[49m\u001b[43m \u001b[49m\u001b[38;5;124;43m\"\u001b[39;49m\u001b[38;5;124;43mstrict\u001b[39;49m\u001b[38;5;124;43m\"\u001b[39;49m\u001b[43m)\u001b[49m\u001b[43m,\u001b[49m\n\u001b[0;32m   1669\u001b[0m \u001b[43m    \u001b[49m\u001b[43mstorage_options\u001b[49m\u001b[38;5;241;43m=\u001b[39;49m\u001b[38;5;28;43mself\u001b[39;49m\u001b[38;5;241;43m.\u001b[39;49m\u001b[43moptions\u001b[49m\u001b[38;5;241;43m.\u001b[39;49m\u001b[43mget\u001b[49m\u001b[43m(\u001b[49m\u001b[38;5;124;43m\"\u001b[39;49m\u001b[38;5;124;43mstorage_options\u001b[39;49m\u001b[38;5;124;43m\"\u001b[39;49m\u001b[43m,\u001b[49m\u001b[43m \u001b[49m\u001b[38;5;28;43;01mNone\u001b[39;49;00m\u001b[43m)\u001b[49m\u001b[43m,\u001b[49m\n\u001b[0;32m   1670\u001b[0m \u001b[43m\u001b[49m\u001b[43m)\u001b[49m\n\u001b[0;32m   1671\u001b[0m \u001b[38;5;28;01massert\u001b[39;00m \u001b[38;5;28mself\u001b[39m\u001b[38;5;241m.\u001b[39mhandles \u001b[38;5;129;01mis\u001b[39;00m \u001b[38;5;129;01mnot\u001b[39;00m \u001b[38;5;28;01mNone\u001b[39;00m\n\u001b[0;32m   1672\u001b[0m f \u001b[38;5;241m=\u001b[39m \u001b[38;5;28mself\u001b[39m\u001b[38;5;241m.\u001b[39mhandles\u001b[38;5;241m.\u001b[39mhandle\n",
      "File \u001b[1;32mc:\\users\\omkar pethe\\appdata\\local\\programs\\python\\python39\\lib\\site-packages\\pandas\\io\\common.py:859\u001b[0m, in \u001b[0;36mget_handle\u001b[1;34m(path_or_buf, mode, encoding, compression, memory_map, is_text, errors, storage_options)\u001b[0m\n\u001b[0;32m    854\u001b[0m \u001b[38;5;28;01melif\u001b[39;00m \u001b[38;5;28misinstance\u001b[39m(handle, \u001b[38;5;28mstr\u001b[39m):\n\u001b[0;32m    855\u001b[0m     \u001b[38;5;66;03m# Check whether the filename is to be opened in binary mode.\u001b[39;00m\n\u001b[0;32m    856\u001b[0m     \u001b[38;5;66;03m# Binary mode does not support 'encoding' and 'newline'.\u001b[39;00m\n\u001b[0;32m    857\u001b[0m     \u001b[38;5;28;01mif\u001b[39;00m ioargs\u001b[38;5;241m.\u001b[39mencoding \u001b[38;5;129;01mand\u001b[39;00m \u001b[38;5;124m\"\u001b[39m\u001b[38;5;124mb\u001b[39m\u001b[38;5;124m\"\u001b[39m \u001b[38;5;129;01mnot\u001b[39;00m \u001b[38;5;129;01min\u001b[39;00m ioargs\u001b[38;5;241m.\u001b[39mmode:\n\u001b[0;32m    858\u001b[0m         \u001b[38;5;66;03m# Encoding\u001b[39;00m\n\u001b[1;32m--> 859\u001b[0m         handle \u001b[38;5;241m=\u001b[39m \u001b[38;5;28;43mopen\u001b[39;49m\u001b[43m(\u001b[49m\n\u001b[0;32m    860\u001b[0m \u001b[43m            \u001b[49m\u001b[43mhandle\u001b[49m\u001b[43m,\u001b[49m\n\u001b[0;32m    861\u001b[0m \u001b[43m            \u001b[49m\u001b[43mioargs\u001b[49m\u001b[38;5;241;43m.\u001b[39;49m\u001b[43mmode\u001b[49m\u001b[43m,\u001b[49m\n\u001b[0;32m    862\u001b[0m \u001b[43m            \u001b[49m\u001b[43mencoding\u001b[49m\u001b[38;5;241;43m=\u001b[39;49m\u001b[43mioargs\u001b[49m\u001b[38;5;241;43m.\u001b[39;49m\u001b[43mencoding\u001b[49m\u001b[43m,\u001b[49m\n\u001b[0;32m    863\u001b[0m \u001b[43m            \u001b[49m\u001b[43merrors\u001b[49m\u001b[38;5;241;43m=\u001b[39;49m\u001b[43merrors\u001b[49m\u001b[43m,\u001b[49m\n\u001b[0;32m    864\u001b[0m \u001b[43m            \u001b[49m\u001b[43mnewline\u001b[49m\u001b[38;5;241;43m=\u001b[39;49m\u001b[38;5;124;43m\"\u001b[39;49m\u001b[38;5;124;43m\"\u001b[39;49m\u001b[43m,\u001b[49m\n\u001b[0;32m    865\u001b[0m \u001b[43m        \u001b[49m\u001b[43m)\u001b[49m\n\u001b[0;32m    866\u001b[0m     \u001b[38;5;28;01melse\u001b[39;00m:\n\u001b[0;32m    867\u001b[0m         \u001b[38;5;66;03m# Binary mode\u001b[39;00m\n\u001b[0;32m    868\u001b[0m         handle \u001b[38;5;241m=\u001b[39m \u001b[38;5;28mopen\u001b[39m(handle, ioargs\u001b[38;5;241m.\u001b[39mmode)\n",
      "\u001b[1;31mFileNotFoundError\u001b[0m: [Errno 2] No such file or directory: 'E:\\\\exl datasets\\\\Credit_Risk_data.csv'"
     ]
    }
   ],
   "source": [
    "df=pd.read_csv(r\"E:\\exl datasets\\Credit_Risk_data.csv\")\n",
    "df.head() "
   ]
  },
  {
   "cell_type": "code",
   "execution_count": null,
   "id": "e8a7e348",
   "metadata": {},
   "outputs": [],
   "source": [
    "df.shape"
   ]
  },
  {
   "cell_type": "code",
   "execution_count": null,
   "id": "9e09d216",
   "metadata": {},
   "outputs": [],
   "source": [
    "df.isnull().sum()"
   ]
  },
  {
   "cell_type": "markdown",
   "id": "08c31ebe",
   "metadata": {},
   "source": [
    "#### EDA (Exploratory Data Analysis)"
   ]
  },
  {
   "cell_type": "markdown",
   "id": "621ca1d2",
   "metadata": {},
   "source": [
    "##### 1.1 Gender"
   ]
  },
  {
   "cell_type": "code",
   "execution_count": null,
   "id": "5acea3f8",
   "metadata": {},
   "outputs": [],
   "source": [
    "df.info()"
   ]
  },
  {
   "cell_type": "code",
   "execution_count": null,
   "id": "40ecf66b",
   "metadata": {},
   "outputs": [],
   "source": [
    "df.Gender.value_counts()"
   ]
  },
  {
   "cell_type": "code",
   "execution_count": null,
   "id": "cf4b9100",
   "metadata": {},
   "outputs": [],
   "source": [
    "df['Gender'].fillna(df['Gender'].mode()[0],inplace=True)"
   ]
  },
  {
   "cell_type": "code",
   "execution_count": null,
   "id": "b54f21f1",
   "metadata": {},
   "outputs": [],
   "source": [
    "df['Gender'].replace({'Male':0,'Female':1},inplace=True)"
   ]
  },
  {
   "cell_type": "code",
   "execution_count": null,
   "id": "34086211",
   "metadata": {},
   "outputs": [],
   "source": [
    "Gender_data={'Male':0,'Female':1}"
   ]
  },
  {
   "cell_type": "code",
   "execution_count": null,
   "id": "b08ee272",
   "metadata": {},
   "outputs": [],
   "source": [
    "df['Gender']=df['Gender'].astype(int)"
   ]
  },
  {
   "cell_type": "code",
   "execution_count": null,
   "id": "0a37af7a",
   "metadata": {},
   "outputs": [],
   "source": [
    "df.info()"
   ]
  },
  {
   "cell_type": "markdown",
   "id": "4278e581",
   "metadata": {},
   "source": [
    "##### 1.2 Married            "
   ]
  },
  {
   "cell_type": "code",
   "execution_count": null,
   "id": "52ac4de3",
   "metadata": {},
   "outputs": [],
   "source": [
    "df['Married'].isnull().sum()"
   ]
  },
  {
   "cell_type": "code",
   "execution_count": null,
   "id": "f78e8ebd",
   "metadata": {},
   "outputs": [],
   "source": [
    "df['Married'].value_counts()"
   ]
  },
  {
   "cell_type": "code",
   "execution_count": null,
   "id": "dfa7eeb2",
   "metadata": {},
   "outputs": [],
   "source": [
    "df['Married'].replace({'Yes':1,'No':0},inplace=True)"
   ]
  },
  {
   "cell_type": "code",
   "execution_count": null,
   "id": "bd857bca",
   "metadata": {},
   "outputs": [],
   "source": [
    "Married_data={'Yes':1,'No':0}"
   ]
  },
  {
   "cell_type": "code",
   "execution_count": null,
   "id": "710cdaa8",
   "metadata": {},
   "outputs": [],
   "source": [
    "df['Married'].fillna(df['Married'].mode()[0],inplace=True)"
   ]
  },
  {
   "cell_type": "code",
   "execution_count": null,
   "id": "a7579f94",
   "metadata": {},
   "outputs": [],
   "source": [
    "df['Married'].isnull().sum()"
   ]
  },
  {
   "cell_type": "code",
   "execution_count": null,
   "id": "67aedcff",
   "metadata": {},
   "outputs": [],
   "source": [
    "df['Married']"
   ]
  },
  {
   "cell_type": "code",
   "execution_count": null,
   "id": "db38da4e",
   "metadata": {},
   "outputs": [],
   "source": [
    "#df.info()"
   ]
  },
  {
   "cell_type": "markdown",
   "id": "d9ecb747",
   "metadata": {},
   "source": [
    "##### 1.3 Dependents         "
   ]
  },
  {
   "cell_type": "code",
   "execution_count": null,
   "id": "b2f13712",
   "metadata": {},
   "outputs": [],
   "source": [
    "df['Dependents'].value_counts()"
   ]
  },
  {
   "cell_type": "code",
   "execution_count": null,
   "id": "4a7e8738",
   "metadata": {},
   "outputs": [],
   "source": [
    "df['Dependents'].isnull().sum()"
   ]
  },
  {
   "cell_type": "code",
   "execution_count": null,
   "id": "543fde46",
   "metadata": {},
   "outputs": [],
   "source": [
    "df['Dependents'].fillna(df['Dependents'].mode()[0],inplace=True)"
   ]
  },
  {
   "cell_type": "code",
   "execution_count": null,
   "id": "efc90b19",
   "metadata": {},
   "outputs": [],
   "source": [
    "df['Dependents']=df['Dependents'].replace({'0':0,'1':1,'2':2,'3+':3})"
   ]
  },
  {
   "cell_type": "code",
   "execution_count": null,
   "id": "5cf03084",
   "metadata": {},
   "outputs": [],
   "source": [
    "Dependents_data={'0':0,'1':1,'2':2,'3+':3}"
   ]
  },
  {
   "cell_type": "code",
   "execution_count": null,
   "id": "ccb2bfac",
   "metadata": {},
   "outputs": [],
   "source": [
    "#df.info()"
   ]
  },
  {
   "cell_type": "markdown",
   "id": "7703ccef",
   "metadata": {},
   "source": [
    "##### 1.4 Education          "
   ]
  },
  {
   "cell_type": "code",
   "execution_count": null,
   "id": "3957dea9",
   "metadata": {},
   "outputs": [],
   "source": [
    "df['Education'].value_counts()"
   ]
  },
  {
   "cell_type": "code",
   "execution_count": null,
   "id": "640d0c77",
   "metadata": {},
   "outputs": [],
   "source": [
    "df['Education'].replace({'Graduate':1,'Not Graduate':0},inplace=True)"
   ]
  },
  {
   "cell_type": "code",
   "execution_count": null,
   "id": "d12813a2",
   "metadata": {},
   "outputs": [],
   "source": [
    "Education_data={'Graduate':1,'Not Graduate':0}"
   ]
  },
  {
   "cell_type": "code",
   "execution_count": null,
   "id": "ca6a3c00",
   "metadata": {},
   "outputs": [],
   "source": [
    "df['Education']"
   ]
  },
  {
   "cell_type": "markdown",
   "id": "85253ccc",
   "metadata": {},
   "source": [
    "##### 1.5 Self_Employed"
   ]
  },
  {
   "cell_type": "code",
   "execution_count": null,
   "id": "72ec07ad",
   "metadata": {},
   "outputs": [],
   "source": [
    "df['Self_Employed'].value_counts()"
   ]
  },
  {
   "cell_type": "code",
   "execution_count": null,
   "id": "886e59d5",
   "metadata": {},
   "outputs": [],
   "source": [
    "df['Self_Employed'].isnull().sum()"
   ]
  },
  {
   "cell_type": "code",
   "execution_count": null,
   "id": "f9840953",
   "metadata": {},
   "outputs": [],
   "source": [
    "df['Self_Employed'].replace({'No':0,'Yes':1},inplace=True)"
   ]
  },
  {
   "cell_type": "code",
   "execution_count": null,
   "id": "7a557e30",
   "metadata": {},
   "outputs": [],
   "source": [
    "Self_Employed_data={'No':0,'Yes':1}"
   ]
  },
  {
   "cell_type": "code",
   "execution_count": null,
   "id": "80d4d5c6",
   "metadata": {},
   "outputs": [],
   "source": [
    "df['Self_Employed'].fillna(df['Self_Employed'].mode()[0],inplace=True)"
   ]
  },
  {
   "cell_type": "code",
   "execution_count": null,
   "id": "ef823d81",
   "metadata": {},
   "outputs": [],
   "source": [
    "df['Self_Employed'].isnull().sum()"
   ]
  },
  {
   "cell_type": "markdown",
   "id": "a074cb83",
   "metadata": {},
   "source": [
    "##### 1.6 ApplicantIncome    "
   ]
  },
  {
   "cell_type": "code",
   "execution_count": null,
   "id": "fd2083ed",
   "metadata": {},
   "outputs": [],
   "source": [
    "df['ApplicantIncome']"
   ]
  },
  {
   "cell_type": "code",
   "execution_count": null,
   "id": "7839deb7",
   "metadata": {},
   "outputs": [],
   "source": [
    "df['ApplicantIncome'].isnull().sum()    "
   ]
  },
  {
   "cell_type": "markdown",
   "id": "a2b6d1ed",
   "metadata": {},
   "source": [
    "##### 1.7 CoapplicantIncome  "
   ]
  },
  {
   "cell_type": "code",
   "execution_count": null,
   "id": "13d2d575",
   "metadata": {},
   "outputs": [],
   "source": [
    "df['CoapplicantIncome'].value_counts()"
   ]
  },
  {
   "cell_type": "code",
   "execution_count": null,
   "id": "989e5401",
   "metadata": {},
   "outputs": [],
   "source": [
    "df['CoapplicantIncome'].isnull().sum()  "
   ]
  },
  {
   "cell_type": "code",
   "execution_count": null,
   "id": "2aef03ae",
   "metadata": {},
   "outputs": [],
   "source": [
    "df.info()"
   ]
  },
  {
   "cell_type": "markdown",
   "id": "68e2c633",
   "metadata": {},
   "source": [
    "##### 1.8 LoanAmount         "
   ]
  },
  {
   "cell_type": "code",
   "execution_count": null,
   "id": "afa397ad",
   "metadata": {},
   "outputs": [],
   "source": [
    "df['LoanAmount'].value_counts()"
   ]
  },
  {
   "cell_type": "code",
   "execution_count": null,
   "id": "65b9a49e",
   "metadata": {},
   "outputs": [],
   "source": [
    "df['LoanAmount'].isnull().sum()        "
   ]
  },
  {
   "cell_type": "code",
   "execution_count": null,
   "id": "d5bcb63f",
   "metadata": {},
   "outputs": [],
   "source": [
    "df['LoanAmount'].fillna(df['LoanAmount'].mean(),inplace=True)"
   ]
  },
  {
   "cell_type": "markdown",
   "id": "8d67c7f5",
   "metadata": {},
   "source": [
    "##### 1.9 Loan_Amount_Term"
   ]
  },
  {
   "cell_type": "code",
   "execution_count": null,
   "id": "fa831910",
   "metadata": {},
   "outputs": [],
   "source": [
    "df['Loan_Amount_Term'].isnull().sum()"
   ]
  },
  {
   "cell_type": "code",
   "execution_count": null,
   "id": "c030955f",
   "metadata": {},
   "outputs": [],
   "source": [
    "df['Loan_Amount_Term'].value_counts()"
   ]
  },
  {
   "cell_type": "code",
   "execution_count": null,
   "id": "b26eb8dc",
   "metadata": {},
   "outputs": [],
   "source": [
    "df['Loan_Amount_Term'].fillna(df['Loan_Amount_Term'].mean(),inplace=True)"
   ]
  },
  {
   "cell_type": "markdown",
   "id": "3f2333d4",
   "metadata": {},
   "source": [
    "##### 1.10  Credit_History     "
   ]
  },
  {
   "cell_type": "code",
   "execution_count": null,
   "id": "bd4bcfd1",
   "metadata": {},
   "outputs": [],
   "source": [
    "df['Credit_History'].value_counts()"
   ]
  },
  {
   "cell_type": "code",
   "execution_count": null,
   "id": "d130f437",
   "metadata": {},
   "outputs": [],
   "source": [
    "df['Credit_History'].isnull().sum()"
   ]
  },
  {
   "cell_type": "code",
   "execution_count": null,
   "id": "8e373819",
   "metadata": {},
   "outputs": [],
   "source": [
    "df['Credit_History'].fillna(df['Credit_History'].mode()[0],inplace=True)"
   ]
  },
  {
   "cell_type": "markdown",
   "id": "fe7b6057",
   "metadata": {},
   "source": [
    "##### 1.11 Property_Area      "
   ]
  },
  {
   "cell_type": "code",
   "execution_count": null,
   "id": "74117155",
   "metadata": {},
   "outputs": [],
   "source": [
    "df['Property_Area'].value_counts()"
   ]
  },
  {
   "cell_type": "code",
   "execution_count": null,
   "id": "94830cb1",
   "metadata": {},
   "outputs": [],
   "source": [
    "df['Property_Area'].fillna(df['Property_Area'].mode()[0],inplace=True)"
   ]
  },
  {
   "cell_type": "code",
   "execution_count": null,
   "id": "e57d9a2c",
   "metadata": {},
   "outputs": [],
   "source": [
    "df=pd.get_dummies(df,columns=['Property_Area'],dtype=int)"
   ]
  },
  {
   "cell_type": "code",
   "execution_count": null,
   "id": "61659cf6",
   "metadata": {},
   "outputs": [],
   "source": [
    "df"
   ]
  },
  {
   "cell_type": "markdown",
   "id": "42e2c085",
   "metadata": {},
   "source": [
    "#### 1.12 Loan status      *Target variable"
   ]
  },
  {
   "cell_type": "code",
   "execution_count": null,
   "id": "55953fcb",
   "metadata": {},
   "outputs": [],
   "source": [
    "df['Loan_Status'].isnull().sum()"
   ]
  },
  {
   "cell_type": "code",
   "execution_count": null,
   "id": "c83b00a5",
   "metadata": {},
   "outputs": [],
   "source": [
    "df['Loan_Status'].replace({'Y':1,'N':0},inplace=True)"
   ]
  },
  {
   "cell_type": "code",
   "execution_count": null,
   "id": "a921cdf6",
   "metadata": {},
   "outputs": [],
   "source": [
    "df['Loan_Status'].value_counts()   #Imbalanced Data "
   ]
  },
  {
   "cell_type": "code",
   "execution_count": null,
   "id": "ae81fecd",
   "metadata": {},
   "outputs": [],
   "source": [
    "plt.figure(figsize=(5,3))\n",
    "sns.countplot(x=df['Loan_Status'])"
   ]
  },
  {
   "cell_type": "markdown",
   "id": "80a06025",
   "metadata": {},
   "source": [
    "##### Clean data"
   ]
  },
  {
   "cell_type": "code",
   "execution_count": null,
   "id": "c9e2e61b",
   "metadata": {},
   "outputs": [],
   "source": [
    "df"
   ]
  },
  {
   "cell_type": "code",
   "execution_count": null,
   "id": "d340713f",
   "metadata": {},
   "outputs": [],
   "source": [
    "df.info()"
   ]
  },
  {
   "cell_type": "markdown",
   "id": "bbe89449",
   "metadata": {},
   "source": [
    "#### Model Building "
   ]
  },
  {
   "cell_type": "code",
   "execution_count": null,
   "id": "8617e1a4",
   "metadata": {},
   "outputs": [],
   "source": [
    "df1=df.drop(['Loan_ID'],axis=1)"
   ]
  },
  {
   "cell_type": "code",
   "execution_count": null,
   "id": "c245505c",
   "metadata": {},
   "outputs": [],
   "source": [
    "x=df1.drop(['Loan_Status'],axis=1)\n",
    "y=df1['Loan_Status']"
   ]
  },
  {
   "cell_type": "markdown",
   "id": "0fc4261e",
   "metadata": {},
   "source": [
    "#### train test split"
   ]
  },
  {
   "cell_type": "code",
   "execution_count": null,
   "id": "8474fb0a",
   "metadata": {},
   "outputs": [],
   "source": [
    "xtrain,xtest,ytrain,ytest=train_test_split(x,y,train_size=0.8,stratify=y,random_state=11)"
   ]
  },
  {
   "cell_type": "code",
   "execution_count": null,
   "id": "46a6656e",
   "metadata": {},
   "outputs": [],
   "source": [
    "xtrain.shape,xtest.shape,ytrain.shape,ytest.shape"
   ]
  },
  {
   "cell_type": "markdown",
   "id": "a81181b7",
   "metadata": {},
   "source": [
    "#### Model training"
   ]
  },
  {
   "cell_type": "code",
   "execution_count": null,
   "id": "6df5f4b8",
   "metadata": {},
   "outputs": [],
   "source": [
    "logmodel=LogisticRegression()\n",
    "model=logmodel.fit(xtrain,ytrain)\n",
    "pred=logmodel.predict(xtest)\n",
    "residual=ytest-pred"
   ]
  },
  {
   "cell_type": "code",
   "execution_count": null,
   "id": "ee0da826",
   "metadata": {},
   "outputs": [],
   "source": [
    "pd.DataFrame({'Actual':ytest,'Predicted':pred,'Residual':residual})"
   ]
  },
  {
   "cell_type": "markdown",
   "id": "a8a1719d",
   "metadata": {},
   "source": [
    "#### Evaluation Metrics"
   ]
  },
  {
   "cell_type": "code",
   "execution_count": null,
   "id": "91f00cba",
   "metadata": {},
   "outputs": [],
   "source": [
    "conf_mat=confusion_matrix(ytest,pred);conf_mat"
   ]
  },
  {
   "cell_type": "code",
   "execution_count": null,
   "id": "3011cdad",
   "metadata": {},
   "outputs": [],
   "source": [
    "a=accuracy_score(ytest,pred);print('Accuracy testing data: ',a*100)"
   ]
  },
  {
   "cell_type": "code",
   "execution_count": null,
   "id": "5124c15a",
   "metadata": {},
   "outputs": [],
   "source": [
    "print(classification_report(ytest,pred))"
   ]
  },
  {
   "cell_type": "code",
   "execution_count": null,
   "id": "a2b1095f",
   "metadata": {},
   "outputs": [],
   "source": [
    "pred_prob_test=pd.DataFrame(logmodel.predict_proba(xtest));pred_prob_test"
   ]
  },
  {
   "cell_type": "markdown",
   "id": "9962e319",
   "metadata": {},
   "source": [
    "#### Evaluation Traing data"
   ]
  },
  {
   "cell_type": "code",
   "execution_count": null,
   "id": "9e01abea",
   "metadata": {},
   "outputs": [],
   "source": [
    "pred1=logmodel.predict(xtrain)\n",
    "residual1=ytrain-pred1\n",
    "\n",
    "pd.DataFrame({'Actual':ytrain,'Predicted':pred1,'Residual':residual1})\n",
    "\n",
    "\n",
    "conf_mat1=confusion_matrix(ytrain,pred1);print(conf_mat1)\n",
    "print('*'*79)\n",
    "a1=accuracy_score(ytrain,pred1);print('Accuracy traing data: ',a1*100)\n",
    "print('*'*79)\n",
    "print(classification_report(ytrain,pred1))\n",
    "print('*'*79)\n",
    "pred_prob_train=pd.DataFrame(logmodel.predict_proba(xtrain));pred_prob_train"
   ]
  },
  {
   "cell_type": "markdown",
   "id": "48996682",
   "metadata": {},
   "source": [
    "#### Single row testing"
   ]
  },
  {
   "cell_type": "code",
   "execution_count": null,
   "id": "d20b7499",
   "metadata": {},
   "outputs": [],
   "source": [
    "Gender='Male'\n",
    "Married='Yes'\n",
    "Dependents='0'\n",
    "Education= 'Not Graduate'\n",
    "Self_Employed='Yes'\n",
    "ApplicantIncome=4695\n",
    "CoapplicantIncome=0\n",
    "LoanAmount=96\n",
    "Loan_Amount_Term=360\n",
    "Credit_History=1\n",
    "Property_Area='Urban'\n",
    "\n",
    "column_names=x.columns.to_list()\n",
    "Gender = Gender_data[Gender]\n",
    "Married = Married_data[Married]\n",
    "Dependents = Dependents_data[Dependents]\n",
    "Education = Education_data[Education]\n",
    "Self_Employed = Self_Employed_data[Self_Employed]\n",
    "\n",
    "Property_Area='Property_Area_'+Property_Area\n",
    "Property_Area_index=column_names.index(Property_Area)\n",
    "\n",
    "test_array=np.zeros([1,logmodel.n_features_in_])\n",
    "test_array[0,0]=Gender\n",
    "test_array[0,1]=Married\n",
    "test_array[0,2]=Dependents\n",
    "test_array[0,3]=Education\n",
    "test_array[0,4]=Self_Employed\n",
    "test_array[0,5]=ApplicantIncome\n",
    "test_array[0,6]=CoapplicantIncome\n",
    "test_array[0,7]=LoanAmount\n",
    "test_array[0,8]=Loan_Amount_Term\n",
    "test_array[0,9]=Credit_History\n",
    "test_array[0,Property_Area_index]=1\n",
    "\n",
    "predicted_charges = np.around(logmodel.predict(test_array)[0],3)\n",
    "predicted_charges"
   ]
  },
  {
   "cell_type": "code",
   "execution_count": null,
   "id": "66599dae",
   "metadata": {},
   "outputs": [],
   "source": [
    "test_array"
   ]
  },
  {
   "cell_type": "code",
   "execution_count": null,
   "id": "de8d6105",
   "metadata": {},
   "outputs": [],
   "source": [
    "project_data={'Gender':{'Male':0,'Female':1},\n",
    "             'Married':{'Yes':1,'No':0},\n",
    "              'Dependents':{'0':0,'1':1,'2':2,'3+':3},\n",
    "               'Education':{'Graduate':1,'Not Graduate':0},\n",
    "                'Self_Employed':{'No':0,'Yes':1},\n",
    "                'column_names':['Gender', 'Married', 'Dependents', 'Education', 'Self_Employed',\n",
    "       'ApplicantIncome', 'CoapplicantIncome', 'LoanAmount',\n",
    "       'Loan_Amount_Term', 'Credit_History', 'Loan_Status',\n",
    "       'Property_Area_Rural', 'Property_Area_Semiurban',\n",
    "       'Property_Area_Urban']}"
   ]
  },
  {
   "cell_type": "code",
   "execution_count": null,
   "id": "e8214b20",
   "metadata": {},
   "outputs": [],
   "source": [
    "with open('Logmodel.pkl','wb') as f:\n",
    "    pickle.dump(logmodel,f)\n",
    "    \n",
    "with open('Proj_data.json','w') as f:\n",
    "    json.dump(project_data,f)"
   ]
  }
 ],
 "metadata": {
  "kernelspec": {
   "display_name": "Python 3 (ipykernel)",
   "language": "python",
   "name": "python3"
  },
  "language_info": {
   "codemirror_mode": {
    "name": "ipython",
    "version": 3
   },
   "file_extension": ".py",
   "mimetype": "text/x-python",
   "name": "python",
   "nbconvert_exporter": "python",
   "pygments_lexer": "ipython3",
   "version": "3.9.0"
  }
 },
 "nbformat": 4,
 "nbformat_minor": 5
}
